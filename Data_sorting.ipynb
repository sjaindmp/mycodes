{
  "nbformat": 4,
  "nbformat_minor": 0,
  "metadata": {
    "colab": {
      "name": "Copy of Untitled0.ipynb",
      "provenance": [],
      "authorship_tag": "ABX9TyOYNAPcyPZ/+0WoAuzOhhHV",
      "include_colab_link": true
    },
    "kernelspec": {
      "name": "python3",
      "display_name": "Python 3"
    }
  },
  "cells": [
    {
      "cell_type": "markdown",
      "metadata": {
        "id": "view-in-github",
        "colab_type": "text"
      },
      "source": [
        "<a href=\"https://colab.research.google.com/github/sjaindmp/mycodes/blob/master/Data_sorting.ipynb\" target=\"_parent\"><img src=\"https://colab.research.google.com/assets/colab-badge.svg\" alt=\"Open In Colab\"/></a>"
      ]
    },
    {
      "cell_type": "code",
      "metadata": {
        "id": "g4Q_mvh713wy",
        "colab_type": "code",
        "colab": {}
      },
      "source": [
        "import pandas as pd\n",
        "import os\n",
        "read_files_path='./unorgfiles/'\n",
        "write_files_path='./orgfiles/'\n",
        "data=pd.DataFrame()\n",
        "files=[file for file in os.listdir(read_files_path)]\n",
        "for file in files:\n",
        "    df=pd.read_csv(\"./unorgfiles/\" + file)\n",
        "    data=pd.concat([data,df])\n",
        "#print(data)\n",
        "datagp=pd.DataFrame()\n",
        "#datagp=data.groupby('finding').groups.keys()\n",
        "datagpd=data['finding'].unique.tolist()\n",
        "#merging duplicate values\n",
        "#datagpd = list(dict.fromkeys(datagpd))\n",
        "datagpd\n",
        "\n",
        "for x in datagpd:\n",
        "    #print(x)\n",
        "    datas=data.groupby('finding').get_group(x)\n",
        "    filename='data_'+x+'.csv'\n",
        "    datas.to_csv(write_files_path+filename,index = False,header=True)\n"
      ],
      "execution_count": null,
      "outputs": []
    },
    {
      "cell_type": "code",
      "metadata": {
        "id": "T4dMfUIp2A5f",
        "colab_type": "code",
        "colab": {}
      },
      "source": [
        ""
      ],
      "execution_count": null,
      "outputs": []
    }
  ]
}